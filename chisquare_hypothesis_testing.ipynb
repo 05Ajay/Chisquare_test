{
 "cells": [
  {
   "cell_type": "code",
   "execution_count": 1,
   "id": "c8a2d256",
   "metadata": {},
   "outputs": [],
   "source": [
    "#                                            Chisquare test\n",
    "# 1. State the Hypotheses:\n",
    "# Null Hypothesis (H0): There is no significant association between the type of smart home device\n",
    "# purchased and the customer satisfaction level.\n",
    "    \n",
    "# Alternative Hypothesis (H1): There is a significant association between the type of smart home device\n",
    "# purchased and the customer satisfaction level."
   ]
  },
  {
   "cell_type": "code",
   "execution_count": 1,
   "id": "dfa8e87c",
   "metadata": {},
   "outputs": [
    {
     "name": "stdout",
     "output_type": "stream",
     "text": [
      "Chi-Square Statistic: 5.64\n",
      "P-value: 0.23\n",
      "Degrees of Freedom: 4\n",
      "Critical Value: 9.49\n",
      "Fail to reject the null hypothesis (H0). There is no significant association between the type of device and customer satisfaction.\n"
     ]
    }
   ],
   "source": [
    "import numpy as np\n",
    "import scipy.stats as stats\n",
    "\n",
    "# Data\n",
    "data = np.array([[50, 70],\n",
    "                 [80, 100],\n",
    "                 [60, 90],\n",
    "                 [30, 50],\n",
    "                 [20, 50]])\n",
    "\n",
    "# 2. Compute the Chi-Square Statistic:\n",
    "chi2, p, dof, expected = stats.chi2_contingency(data)\n",
    "\n",
    "# Significance level\n",
    "alpha = 0.05\n",
    "\n",
    "# 3. Determine the Critical Value:\n",
    "critical_value = stats.chi2.ppf(1 - alpha, dof)\n",
    "\n",
    "# Print results\n",
    "print(f\"Chi-Square Statistic: {chi2:.2f}\")\n",
    "print(f\"P-value: {p:.2f}\")\n",
    "print(f\"Degrees of Freedom: {dof}\")\n",
    "print(f\"Critical Value: {critical_value:.2f}\")\n",
    "\n",
    "# 4. Make a Decision:\n",
    "if chi2 > critical_value:\n",
    "    print(\"Reject the null hypothesis (H0). There is a significant association between the type of device and customer satisfaction.\")\n",
    "else:\n",
    "    print(\"Fail to reject the null hypothesis (H0). There is no significant association between the type of device and customer satisfaction.\")\n"
   ]
  },
  {
   "cell_type": "code",
   "execution_count": 2,
   "id": "4dfb9bff",
   "metadata": {},
   "outputs": [],
   "source": [
    "#                                             Hypothesis Testing\n",
    "# 1. State the Hypotheses statement:\n",
    "# Null Hypothesis (H₀): The weekly operating costs follow the theoretical model,\n",
    "# i.e., the mean weekly cost is equal to the predicted value: (μ = $1,000 + $5X).\n",
    "# Alternative Hypothesis (H₁): The weekly operating costs are higher than predicted by the model: (μ > $1,000 + $5X)."
   ]
  },
  {
   "cell_type": "code",
   "execution_count": 3,
   "id": "97f1943f",
   "metadata": {},
   "outputs": [
    {
     "name": "stdout",
     "output_type": "stream",
     "text": [
      "Test Statistic (t): -38.0\n",
      "Critical Value: 1.645\n",
      "Fail to reject the null hypothesis (H₀).\n",
      "There is no strong evidence to support the restaurant owners' claim that the weekly operating costs are higher.\n"
     ]
    }
   ],
   "source": [
    "# Given data\n",
    "sample_mean = 3050  # Sample mean weekly cost (Rs.)\n",
    "theoretical_mean = 1000 + 5 * 600  # Theoretical mean weekly cost according to cost model (W = 1000 + 5X)\n",
    "std_dev = 5 * 25  # Standard deviation (5 * 25 units)\n",
    "sample_size = 25  # Sample size (25 restaurants)\n",
    "\n",
    "# 2. Calculate the Test Statistic:\n",
    "test_statistic = (sample_mean - theoretical_mean) / (std_dev / (sample_size ** 0.5))\n",
    "\n",
    "# 3. Determine the Critical Value:\n",
    "critical_value = 1.645  # Standard normal distribution\n",
    "\n",
    "# Output the test statistic and critical value\n",
    "print(f\"Test Statistic (t): {test_statistic}\")\n",
    "print(f\"Critical Value: {critical_value}\")\n",
    "\n",
    "# 4,5. Make a Decision and conclusion:\n",
    "if test_statistic > critical_value:\n",
    "    print(\"Reject the null hypothesis (H₀).\")\n",
    "    print(\"There is strong evidence to support the restaurant owners' claim that the weekly operating costs are higher.\")\n",
    "else:\n",
    "    print(\"Fail to reject the null hypothesis (H₀).\")\n",
    "    print(\"There is no strong evidence to support the restaurant owners' claim that the weekly operating costs are higher.\")\n"
   ]
  }
 ],
 "metadata": {
  "kernelspec": {
   "display_name": "Python 3 (ipykernel)",
   "language": "python",
   "name": "python3"
  },
  "language_info": {
   "codemirror_mode": {
    "name": "ipython",
    "version": 3
   },
   "file_extension": ".py",
   "mimetype": "text/x-python",
   "name": "python",
   "nbconvert_exporter": "python",
   "pygments_lexer": "ipython3",
   "version": "3.11.5"
  }
 },
 "nbformat": 4,
 "nbformat_minor": 5
}
